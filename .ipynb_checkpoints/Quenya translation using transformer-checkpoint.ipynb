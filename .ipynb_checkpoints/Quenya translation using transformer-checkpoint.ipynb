{
 "cells": [
  {
   "cell_type": "markdown",
   "id": "ea3e9044",
   "metadata": {},
   "source": [
    "# English quenya translation using a transformer - Data collection"
   ]
  },
  {
   "cell_type": "markdown",
   "id": "372476ce",
   "metadata": {},
   "source": [
    "## Main page"
   ]
  },
  {
   "cell_type": "code",
   "execution_count": 103,
   "id": "7dd796ff",
   "metadata": {},
   "outputs": [],
   "source": [
    "import requests\n",
    "from bs4 import BeautifulSoup\n",
    "import numpy as np\n",
    "import nltk\n",
    "import torch.nn\n",
    "import torch.nn.functional as F\n",
    "\n",
    "url = \"https://eldamo.org/content/phrase-indexes/phrases-q.html\"\n",
    "r = requests.get(url)"
   ]
  },
  {
   "cell_type": "code",
   "execution_count": 55,
   "id": "0ce8c80e",
   "metadata": {},
   "outputs": [],
   "source": [
    "soup = BeautifulSoup(r.content, 'html.parser')"
   ]
  },
  {
   "cell_type": "code",
   "execution_count": 56,
   "id": "9c975409",
   "metadata": {},
   "outputs": [],
   "source": [
    "rows_english = soup.select('li')"
   ]
  },
  {
   "cell_type": "code",
   "execution_count": 57,
   "id": "8040bb7d",
   "metadata": {},
   "outputs": [
    {
     "data": {
      "text/plain": [
       "'A anamelda na ar ilyan  “A is dearest of all”\\n               '"
      ]
     },
     "execution_count": 57,
     "metadata": {},
     "output_type": "execute_result"
    }
   ],
   "source": [
    "rows_english[50].text"
   ]
  },
  {
   "cell_type": "code",
   "execution_count": 58,
   "id": "394c474d",
   "metadata": {},
   "outputs": [],
   "source": [
    "quenya_sentences =[]\n",
    "for row in rows_english:\n",
    "    quenya_sentences.append(row.text)"
   ]
  },
  {
   "cell_type": "code",
   "execution_count": 59,
   "id": "3f53dcf3",
   "metadata": {},
   "outputs": [],
   "source": [
    "sentences = quenya_sentences[15:]"
   ]
  },
  {
   "cell_type": "code",
   "execution_count": 60,
   "id": "69b6dbed",
   "metadata": {},
   "outputs": [
    {
     "data": {
      "text/plain": [
       "['a Aina Maria arca atarmë  “Holy Mary, pray for us”\\n         ',\n",
       " 'a Aina Neldië Eru Er órava (o)messë  “Holy Trinity, one God, have mercy on us”\\n         ',\n",
       " 'A carnë ta yallë B (carnë)  “A did that as / like B (did)”\\n         ',\n",
       " 'a Eruion Mardorunando, Eru órava (o)messë  “God, the Son, Redeemer of the world, have mercy on us”\\n         ',\n",
       " 'a Hrísto órava ómessë  “Christ, have mercy on us”\\n         ',\n",
       " 'á hyamë rámen úcarindor  “pray for us sinners”\\n         ',\n",
       " 'Aia María quanta Eruanno  “Hail Mary, full of grace”\\n         ',\n",
       " 'ai! laurië lantar lassi súrinen  “ah! like gold fall the leaves in the wind”\\n            \\nai! lassi lantar laurië súrinen  “ah! leaves fall golden in [by means of] the wind”\\n               \\n\\n',\n",
       " 'ai! lassi lantar laurië súrinen  “ah! leaves fall golden in [by means of] the wind”\\n               ',\n",
       " 'Aina Eruontarië  “Holy Mother of God”\\n         ',\n",
       " 'Aina Wendë mi Wenderon  “Holy Virgin of virgins”\\n         ',\n",
       " '(ai)que kestanellen, (ai) tullenye  “if you had asked me, I should have come”\\n         ',\n",
       " 'Airë María Eruo ontaril  “Holy Mary, Mother of God”\\n         ',\n",
       " 'aistana elyë imíca nísi  “blessed art thou amongst women”\\n         ',\n",
       " 'aite[?] kestallen  “now, suppose, you ask me”\\n         ',\n",
       " 'aite[?] kestuvallen, tuluvanye  “now supposing you asked me, a thing unlikely {or ridiculous} to suppose...”\\n         ',\n",
       " 'ai tulinye sinar (entan)  “I may come today (tomorrow)”\\n         ',\n",
       " 'ai tuluvanye  “I may come”\\n         ',\n",
       " 'aiya Eärendil elenion ancalima  “hail Eärendil, brightest of stars”\\n         ',\n",
       " 'aiya Eldalië ar Atanatári, utúlie’n aurë  “Behold, people of the Eldar and Fathers of Men, the day has come!”\\n         ',\n",
       " 'a laita tárienna  “bless (or praise) [them] to the height”\\n         ',\n",
       " 'a laita te, laita te  “bless them, bless them”\\n         ',\n",
       " 'alalyë nattira arcandemmar sangiessemman  “despise not our petitions in our necessities”\\n         ',\n",
       " 'álamë tulya úsahtienna  “[and] lead us not into temptation”\\n         ',\n",
       " 'alasaila ná lá carë tai mo nave mára  “it is unwise not to do what one judges good”\\n         ',\n",
       " 'alcar i Ataren ar i Yondon ar i Airefëan  “glory be to the Father, and to the Son, and to the Holy Spirit”\\n         ',\n",
       " 'alcarin Vendë ar manaquenta  “O glorious and blessed Virgin”\\n         ',\n",
       " 'alcar mi Tarmenel na Erun  “glory [be] to God in the highest”\\n         ',\n",
       " 'alcar Oromëo  “the splendour of Oromë”\\n         ',\n",
       " 'alcar Oroméva  “the splendour of Oromë”\\n         ',\n",
       " 'Altariello nainië Lóriendesse  “Galadriel’s lament in Lórien”\\n         ',\n",
       " 'ámen anta síra ilaurëa massamma  “give us this day our daily bread”\\n         ',\n",
       " 'Amillë Eruva lissëo  “Mother of divine grace”\\n         ',\n",
       " 'Amillë Hristo  “Mother of Christ”\\n         ',\n",
       " 'A (ná) calima lá B  “A is brighter than B; (lit.) A is bright beyond B”\\n            \\nA anamelda na ar ilyan  “A is dearest of all”\\n               \\nA anamelda na epë B  “A is dear before B”\\n               \\nA anamelda na ep’ ilya  “A is dearest of all”\\n               \\nA ancalima imb’ illi  “A is brightest of all”\\n               \\nA arimelda na epe B  “A is (very much) [dearer] than B”\\n               \\nA arimelda na ilyaron  “A is dearest of all”\\n               \\nancalima ep’ eleni  “brighter than stars”\\n               \\nancalima imbi eleni  “brightest among stars”\\n               \\narcalima ar eleni  “A is brightest of all”\\n               \\narcalima ep’ eleni  “far and away brighter than stars”\\n               \\nelenion ancalima  “brightest of stars”\\n               \\n\\n',\n",
       " 'A anamelda na ar ilyan  “A is dearest of all”\\n               ',\n",
       " 'A anamelda na epë B  “A is dear before B”\\n               ',\n",
       " 'A anamelda na ep’ ilya  “A is dearest of all”\\n               ',\n",
       " 'A ancalima imb’ illi  “A is brightest of all”\\n               ',\n",
       " 'A arimelda na epe B  “A is (very much) [dearer] than B”\\n               ',\n",
       " 'A arimelda na ilyaron  “A is dearest of all”\\n               ',\n",
       " 'ancalima ep’ eleni  “brighter than stars”\\n               ',\n",
       " 'ancalima imbi eleni  “brightest among stars”\\n               ',\n",
       " 'arcalima ar eleni  “A is brightest of all”\\n               ',\n",
       " 'arcalima ep’ eleni  “far and away brighter than stars”\\n               ',\n",
       " 'elenion ancalima  “brightest of stars”\\n               ',\n",
       " 'á na márië  “be well”\\n         ',\n",
       " 'Anar caluva tielyanna  “The sun shall shine upon your path”\\n         ',\n",
       " 'anar púrëa tihta  “a bleared sun blinking”\\n         ',\n",
       " 'andavë laituvalmet  “long we will praise them”\\n         ',\n",
       " 'Andúnë pella Vardo tellumar nu luini  “beyond the West, beneath the blue vaults of Varda”\\n            \\nAndúnë pella Vardo nu luini tellumar  “West beyond [the borders of] Varda’s under blue domes”\\n               \\n\\n',\n",
       " 'Andúnë pella Vardo nu luini tellumar  “West beyond [the borders of] Varda’s under blue domes”\\n               ',\n",
       " 'an quetta  “a word more, to add to what has been said”\\n         ',\n",
       " 'an sí Tintallë Varda Oiolossëo ve fanyar máryat Elentári ortanë  “for now the Kindler, Varda, the Queen of the Stars from Mount Everwhite has uplifted her hands like clouds”\\n            \\nan sí Varda, Tintallë, Elentári ortanë máryat Oiolossëo ve fanyar  “for now Varda, Star-kindler, Star-queen [has] lifted up her (two) hands from Mount Everwhite like (white) clouds”\\n               \\n\\n',\n",
       " 'an sí Varda, Tintallë, Elentári ortanë máryat Oiolossëo ve fanyar  “for now Varda, Star-kindler, Star-queen [has] lifted up her (two) hands from Mount Everwhite like (white) clouds”\\n               ',\n",
       " 'antanen hatal sena  “I cast a spear at him”\\n         ',\n",
       " 'antanë ninna  “*he gave (it) to me”\\n         ',\n",
       " 'antanen parma sen  “I gave a book to him”\\n         ',\n",
       " 'antanenyes parmanen  “I presented him with a book”\\n         ',\n",
       " 'ar aistana i yávë mónalyo Yésus  “and blessed is the fruit of thy womb Jesus”\\n         ',\n",
       " 'ar ámen apsenë úcaremmar  “and forgive us our trespasses”\\n         ',\n",
       " 'aranielya na tuluva  “thy kingdom come”\\n         ',\n",
       " 'aran Lestanórëo  “King of Doriath”\\n         ',\n",
       " 'aran linta ciryalion  “*king of swift ships”\\n            \\naran linta ciryalíva  “*king of swift ships”\\n               \\n\\n',\n",
       " 'aran linta ciryalíva  “*king of swift ships”\\n               ',\n",
       " 'Aran Meletyalda  “king your mighty”\\n         ',\n",
       " 'Arcastar Mondósaresse  “Tolkien in Oxford”\\n         ',\n",
       " 'ar cé mo formenna tentanes Amanna  “and if northwards, it pointed towards Aman”\\n         ',\n",
       " 'ar Elendil Vorondo voronwë  “and of the faith of Elendil the Faithful”\\n         ',\n",
       " 'ar hísië untúpa Calaciryo míri oialë  “and mist covers the jewels of Calacirya forever”\\n            \\nar hísië untúpa Calaciryo míri oialë²  “and mist covers (lit. down-roofs) Calacirya’s jewels forever”\\n               \\n\\n',\n",
       " 'ar hísië untúpa Calaciryo míri oialë²  “and mist covers (lit. down-roofs) Calacirya’s jewels forever”\\n               ',\n",
       " 'á ricë amrícië  “try harder”\\n            \\ná carë (sí) ancárië  “try harder”\\n               \\ná cenë ancénië  “look sharper, closer, more attentively, better, more closely”\\n               \\ná lirë amlírië  “sing harder / better / with more vigour or with more vocalic art”\\n               \\ná menë amménië  “proceed with more determination”\\n               \\ná norë amnórië  “run with more running, run faster”\\n               \\ná tirë antírië  “watch more closely, observe more attentively”\\n               \\n\\n',\n",
       " 'á carë (sí) ancárië  “try harder”\\n               ',\n",
       " 'á cenë ancénië  “look sharper, closer, more attentively, better, more closely”\\n               ',\n",
       " 'á lirë amlírië  “sing harder / better / with more vigour or with more vocalic art”\\n               ',\n",
       " 'á menë amménië  “proceed with more determination”\\n               ',\n",
       " 'á norë amnórië  “run with more running, run faster”\\n               ',\n",
       " 'á tirë antírië  “watch more closely, observe more attentively”\\n               ',\n",
       " 'á ricir  “let them try”\\n         ',\n",
       " 'ar i Eru i or ilyë mahalmar ëa tennoio  “and of the One who is above all thrones for ever”\\n         ',\n",
       " 'ar ilyë tier undulávë lumbulë  “and all paths are drowned deep in shadow”\\n            \\nar lumbulë undulávë ilyë tier  “and (heavy) shadow swallowed (lit. down-licked) all roads”\\n               \\n\\n',\n",
       " 'ar lumbulë undulávë ilyë tier  “and (heavy) shadow swallowed (lit. down-licked) all roads”\\n               ',\n",
       " 'ar mi cemen rainë i hínin  “and on earth peace, good will toward men”\\n         ',\n",
       " 'arquen andamacilwa  “Knight of the Long Sword”\\n         ',\n",
       " 'ar sindanóriello caita mornië  “and out of a grey country darkness lies”\\n            \\nar sindanóriello mornië caita  “and from a grey country darkness lies”\\n               \\n\\n',\n",
       " 'ar sindanóriello mornië caita  “and from a grey country darkness lies”\\n               ',\n",
       " 'ar súlë Manwëo etsurinyë ar Eldaron indor turyaner  “and the spirit of Manwe went out and the hearts of the Eldar were comforted / or obeyed”\\n         ',\n",
       " 'Arwen vanimelda, namárië  “Arwen beautiful and beloved, farewell”\\n            \\nArwen vanimalda, namárië\\n\\n\\n',\n",
       " 'Arwen vanimalda, namárië\\n',\n",
       " 'ar wingildi wilwarindië  “*and the foam-like butterflies”\\n         ',\n",
       " 'á sac’ i fendë, mecin  “close the door, please”\\n         ',\n",
       " 'atalantëa mindonnar  “upon fallen towers”\\n         ',\n",
       " 'atar aranya  “*royal father”\\n         ',\n",
       " 'Átaremma i ëa han Eä  “our Father who art in Heaven”\\n         ',\n",
       " 'Atar meneldëa Eru órava (o)messë  “God the Father of Heaven, have mercy on us”\\n         ',\n",
       " 'á tule  “do come!”\\n         ',\n",
       " 'a Túrin Turambar turún’ ambartanen  “[O] master of doom by doom mastered”\\n         ',\n",
       " 'au kestanellen!  “if only you had asked me!”\\n         ',\n",
       " 'aurë entuluva  “Day shall come again!”\\n         ',\n",
       " 'auta i lómë  “The night is passing!”\\n         ',\n",
       " 'au túlielde (las)!  “if only you had come (were here)”\\n         ',\n",
       " 'au tuluvanye  “I wish/would I were coming”\\n         ',\n",
       " 'áva carë  “Don’t do it”\\n         ',\n",
       " 'á vala Manwë  “may Manwë order it!”\\n         ',\n",
       " 'áva márië  “go happily”\\n         ',\n",
       " 'a vanimar, vanimálion nostari  “O beautiful ones, parents of beautiful children”\\n         ',\n",
       " 'axor ilcalannar  “on bones gleaming”\\n         ',\n",
       " 'caitas lá i sír  “it is beyond the river”\\n         ',\n",
       " 'caitas palla i sír  “it is far beyond the river”\\n         ',\n",
       " 'cálë fifírula  “the light fading”\\n         ',\n",
       " 'calma hendas  “*light in the eyes”\\n         ',\n",
       " 'carë mára quí tyarë naxa  “doing good may cause evil”\\n         ',\n",
       " 'carilye tar  “you do, sir”\\n         ',\n",
       " 'cemendë tambe Erumandë  “on Earth as [it is] in Heaven”\\n         ',\n",
       " 'cé mo quetë ulca  “*if one speaks evil”\\n         ',\n",
       " 'cesë parma  “to look in a book”\\n         ',\n",
       " 'cé tulis, ní nauva tanomë  “*if he/she comes, I will be there”\\n         ',\n",
       " 'cé tulis, tanomë nauvan  “*if he/she comes, I will be there”\\n         ',\n",
       " 'ciryalya tar  “your ship, sir”\\n         ',\n",
       " 'cirya tyulma  “a ship-mast, ship’s mast, mast of an unspecified ship or any ship”\\n         ',\n",
       " 'coirëa quenya  “living speech”\\n         ',\n",
       " 'cuita’r parë  “live and learn”\\n         ',\n",
       " 'cuivië-lancassë  “on the brink of life”\\n         ',\n",
       " 'ëar amortala  “the seas heaving”\\n         ',\n",
       " 'ëar-celumessen  “in the flowing sea”\\n         ',\n",
       " 'ëar falastala  “the sea surging”\\n         ',\n",
       " 'ecë nin?  “please, may I?”\\n         ',\n",
       " 'ecë nin care sa  “I can do that”\\n         ',\n",
       " 'ecuva nin carë sa nöa  “I ‘may’ do that tomorrow, I have a chance of doing that [tomorrow]”\\n         ',\n",
       " 'Elainen tárin Periandion ar meldenya anyáran  “*to Elaine, queen of Hobbits and my very old friend”\\n         ',\n",
       " 'eldar ataformaiti  “the Elves were ambidexters”\\n         ',\n",
       " 'Eldarinwë Leperi ar Notessi  “Elvish Fingers and Numerals”\\n         ',\n",
       " 'Eldar oronter  “the Elves arose”\\n         ',\n",
       " 'Eldar Sindar  “Grey Elves”\\n         ',\n",
       " 'Eldar sindaron  “Grey Elves’”\\n         ',\n",
       " 'elen atto  “of 2 stars”\\n         ',\n",
       " 'elenillor pella talta-taltala  “beyond the stars falling”\\n         ',\n",
       " 'eleni neldë  “*3 stars”\\n         ',\n",
       " 'elenion neldë  “of 3 stars”\\n         ',\n",
       " 'elen síla lúmenn’ omentielvo  “a star shines on the hour of our meeting”\\n         ',\n",
       " 'Elwë, aran Sindaron  “Elwe, King of the Sindar”\\n         ',\n",
       " '†en i matinye  “I shall eat then soon”\\n         ',\n",
       " 'enwina lúmë  “the old darkness”\\n         ',\n",
       " 'epetai i hyarma ú ten ulca símaryassen  “consequently the left hand was not to them evil in their imaginations”\\n         ',\n",
       " 'Eru fai, sî, euva  “*Eru (was) before, (is) now, will be (after)”\\n         ',\n",
       " 'Eru-indonen  “by the will of God”\\n         ',\n",
       " 'essë úpa nas  “he is dumb”\\n         ',\n",
       " 'et Eärello Endorenna utúlien  “Out of the Great Sea to Middle-earth I am come”\\n         ',\n",
       " 'et i péti  “*out of the lips, out of the mouth”\\n         ',\n",
       " 'et sillumello ter yénion yéni tenn’ ambarmetta  “*from this hour, through years of years until the ending of the world”\\n         ',\n",
       " '(hara) máriessë  “(stay) in happiness”\\n         ',\n",
       " 'henta parma  “to read a book”\\n         ',\n",
       " 'Heru órava omessë  “Lord, have mercy on us”\\n         ',\n",
       " 'Híni Ilúvataro  “Children of Ilúvatar”\\n         ',\n",
       " 'hrívë úva véna  “winter is drawing near (to us)”\\n         ',\n",
       " 'i arani Eldaive  “The kings of the Eldar”\\n         ',\n",
       " 'i arani Eldaron  “The kings of the Eldar”\\n         ',\n",
       " 'i carir quettar ómainen  “those who form words with voices”\\n         ',\n",
       " 'i Equessi Rúmilo  “The Sayings of Rúmil”\\n         ',\n",
       " 'i fairi nécë  “the pale phantoms”\\n         ',\n",
       " 'i falmalinnar imbë met  “on the foaming waves between us”\\n            \\n†an i falmalī  “*on the foaming waves”\\n               \\ni falmalinnar imbë met²  “upon the (many) foaming waves between us (two)”\\n               \\n\\n',\n",
       " '†an i falmalī  “*on the foaming waves”\\n               ',\n",
       " 'i falmalinnar imbë met²  “upon the (many) foaming waves between us (two)”\\n               ',\n",
       " 'i Héru aselyë  “the Lord is with thee”\\n         ',\n",
       " 'i hyarma tentanë Melcorello  “the left hand pointed away from Melkor”\\n         ',\n",
       " 'imbë met  “between you and me”\\n         ',\n",
       " 'imbë siryat  “between two rivers”\\n         ',\n",
       " 'imbi Menel Cemenyë menë Ráno tië  “between Heaven and Earth goes the path of the Moon”\\n         ',\n",
       " 'i·oromandi tanna lendë  “*the wood-spirits came thither”\\n         ',\n",
       " 'i roccor rindi  “the horses are swift”\\n         ',\n",
       " 'isilmë ilcalassë  “in the moon gleaming”\\n         ',\n",
       " 'isilmë lantalassë  “in the moon falling”\\n         ',\n",
       " 'isilmë pícalassë  “in the moon waning”\\n         ',\n",
       " 'istan quetë  “I can speak, I know how to speak”\\n         ',\n",
       " '[?it/itē] kestallen, tuluvanye  “if you ask me, I shall come”\\n         ',\n",
       " 'itas la tuluvanyë  “in that case I shan’t come (something will prevent me)”\\n         ',\n",
       " 'itas vá tuluvanyë  “in that case I won’t come”\\n         ',\n",
       " 'i tyulma ciryava  “the mast of the ship”\\n         ',\n",
       " 'köarya Olwe  “the house of him, Olwe”\\n         ',\n",
       " 'lá asanyë  “I don’t wish to, I don’t agree”\\n         ',\n",
       " 'lá carita i hamil mára alasaila ná  “not to do (in this case) what you judge good (would be) unwise”\\n         ',\n",
       " 'lá caritas alasaila cé nauva  “not doing this may be/prove unwise”\\n         ',\n",
       " 'lá caritas, navin, alasaila ná  “not doing this would be (I think) unwise”\\n         ',\n",
       " 'laceníte cuimar  “creatures that cannot/do not (by nature) see”\\n         ',\n",
       " 'lambe Eldaiva  “the language of the Eldar”\\n         ',\n",
       " 'lambe Eldaron  “the language of the Eldar”\\n         ',\n",
       " 'Lambë Valarinwa  “Language of the Valar”\\n         ',\n",
       " 'la navin caritalyas mára  “I do not advise you to do so, (lit.) I don’t judge your doing (it) good”\\n         ',\n",
       " 'lan i Valaron arcanwar tauvar  “*while the thrones of the Valar endure”\\n         ',\n",
       " 'Laurelindórenan lindelorendor malinornélion ornemalin\\n',\n",
       " 'lendes lann’ i sír  “he came (to a point) beyond the river”\\n         ',\n",
       " 'lendes pallan(na) i sír  “he came (to a point) far beyond the river”\\n         ',\n",
       " 'lendë tanna Nieliccilis  “*thither came little Niéle”\\n         ',\n",
       " 'lertan quetë  “I can speak, I am free to speak”\\n         ',\n",
       " 'linquë súrissë  “*grass in the wind”\\n         ',\n",
       " 'lo Manwë  “*from (by agency of) Manwe”\\n         ',\n",
       " 'losselië telerinwa  “*the white people of the shores of Elfland”\\n         ',\n",
       " 'ma caruvalwë ohta  “shall we make war”\\n         ',\n",
       " 'mahtanë yúyo má véla  “*wield both hands alike”\\n         ',\n",
       " 'mal ámë etelehta ulcullo: násië  “but deliver us from evil: Amen”\\n         ',\n",
       " 'mana i coimas Eldaron?  “What is the ‘coimas’ of the Eldar?”\\n            \\nmana i·coimas in·Eldaron?  “What is the ‘coimas’ of the Eldar?”\\n               \\n\\n',\n",
       " 'mana i·coimas in·Eldaron?  “What is the ‘coimas’ of the Eldar?”\\n               ',\n",
       " '^man cenuva fána cirya?  “Who shall see a white ship?”\\n         ',\n",
       " 'man cenuva lumbor ahosta?  “Who shall see the clouds gather?”\\n         ',\n",
       " 'man cenuva métim’ andúnë?  “Who shall see the last evening?”\\n         ',\n",
       " 'manen lambë Quendion ahyanë  “How did the language of the Elves change?”\\n         ',\n",
       " 'man hlaruva rávëa súrë?  “Who shall hear the wind roaring?”\\n         ',\n",
       " 'man tiruva fána cirya?  “Who shall heed a white ship?”\\n         ',\n",
       " 'man tiruva rácina cirya?  “Who shall heed a broken ship?”\\n         ',\n",
       " 'maquente Elendil  “*asked Elendil”\\n         ',\n",
       " 'mára ná  “it is good”\\n         ',\n",
       " 'mára tyen  “good to you = like”\\n         ',\n",
       " 'ma Varda enquantuva i yulma nin sí  “will Varda now refill the cup for me?”\\n         ',\n",
       " 'mélima yondion, lenna antanyes mélio cenwa  “*dear [one] of sons I give it to be read with love”\\n         ',\n",
       " 'melin sé apa lanyë hé  “I love him but not him (the other)”\\n         ',\n",
       " 'melinyes apa la hé  “I love him but not him (the other)”\\n         ',\n",
       " 'menel acúna  “the heavens bending”\\n         ',\n",
       " 'Menelluin Írildeo Ondolindello  “Cornflower of Idril from Gondolin”\\n         ',\n",
       " 'mennen sís  “I arrive[d] here”\\n         ',\n",
       " 'merin sa haryalyë alassë nó vanyalyë Ambarello  “I hope that you have happiness before you pass from the world”\\n         ',\n",
       " 'métima hrestallo círa  “leave the last shore”\\n         ',\n",
       " 'métim’ auressë  “in the last morning”\\n         ',\n",
       " 'mi oromardi lissë miruvóreva  “of the sweet mead in lofty halls”\\n            \\nlissë miruvóreva mí oromardi  “of sweet nectar in the high-halls”\\n               \\n\\n',\n",
       " 'lissë miruvóreva mí oromardi  “of sweet nectar in the high-halls”\\n               ',\n",
       " 'na airë esselya  “hallowed be thy name”\\n         ',\n",
       " 'na carë indómelya  “thy will be done”\\n         ',\n",
       " 'nahtana ló Turin  “*slain by Túrin”\\n         ',\n",
       " 'nai amanya onnalya ter coivierya  “*may your (sg.) child be blessed throughout his/her life”\\n         ',\n",
       " 'nai calambar onnalda ter coivierya  “*may your (pl.) child be light-fated throughout his/her life”\\n         ',\n",
       " 'nai elen atta siluvat aurenna veryanwesto  “*may two stars shine upon the day of your wedding”\\n         ',\n",
       " 'nai elen siluva lyenna  “*may a star shine upon you”\\n         ',\n",
       " 'nai elen siluva parma-restalyanna meldonya  “*may a star shine upon your book-fair, my friend”\\n         ',\n",
       " 'nai elyë hiruva. namárië!  “maybe even thou shalt find it. farewell!”\\n            \\nnai elyë hiruva. namárië!²  “be-it-that even you will find [it]. farewell!”\\n               \\n\\n',\n",
       " 'nai elyë hiruva. namárië!²  “be-it-that even you will find [it]. farewell!”\\n               ',\n",
       " 'nai Eru tye mánata  “God bless you”\\n         ',\n",
       " 'nai hirinyes  “it may well chance for me to find it”\\n         ',\n",
       " 'nai laurë lantuva parmastanna lúmissen tengwiesto  “may (a) golden light fall on your book at the times of your reading”\\n         ',\n",
       " 'nai lye hiruva airëa Amanar  “may thee find a blessed Amanar [Yule]”\\n         ',\n",
       " 'nai nin híres  “it may well chance for me to find it”\\n         ',\n",
       " 'nai tiruvantes i hárar mahalmassen mi Númen  “in the keeping of those who sit upon thrones of the West”\\n         ',\n",
       " 'namárië! nai hiruvalyë Valimar  “farewell! maybe thou shalt find Valimar”\\n            \\nnamárië! nai hiruvalyë Valimar²  “farewell! be-it-that you will find Valimar”\\n               \\n\\n',\n",
       " 'namárië! nai hiruvalyë Valimar²  “farewell! be-it-that you will find Valimar”\\n               ',\n",
       " 'Namna Finwë Míriello  “the Statute of Finwë and Míriel”\\n         ',\n",
       " 'náner ataformaitë ve fírimor quetir  “*were ambidextrous as mortals say”\\n         ',\n",
       " 'nár (naitië)  “they are (indeed = truly)”\\n         ',\n",
       " 'nás mára nin  “I like it”\\n         ',\n",
       " 'Nasser ar Cenime Cantar Valaron ar Maiaron  “The Natures and Visible Shapes of the Valar and Maiar”\\n         ',\n",
       " 'nauva túlë  “he will try to come”\\n         ',\n",
       " 'nefíti kuimar  “air-breathing animals”\\n         ',\n",
       " 'nésë nórima rocco  “he was a horse strong/swift at running”\\n         ',\n",
       " 'ninqui carcar yarra  “the white rocks snarling”\\n         ',\n",
       " 'Noldo-quentasta Ingoldova  “Ingoldo’s History of the Noldor”\\n         ',\n",
       " 'nornë lintië  “he ran quickly”\\n            \\nnornë lintieryanen  “he ran as swiftly as he could, (lit.) he ran with his speed”\\n               \\n\\n',\n",
       " 'nornë lintieryanen  “he ran as swiftly as he could, (lit.) he ran with his speed”\\n               ',\n",
       " 'norolinda pirucendëa  “*tripping lightly, whirling lightly”\\n         ',\n",
       " 'nu fanyarë rúcina  “under ruined skies”\\n         ',\n",
       " 'Oiencarmë Eruo  “The One’s perpetual production”\\n         ',\n",
       " 'ómaryo airetári-lírinen  “in the song of her voice, holy and queenly”\\n            \\nómaryo lírinen airetário  “in [by means of] her voice’s song, of the holy-queen”\\n                  \\nlírinen ómo i·aire tárío  “by the song of the voice of the holy queen”\\n                     \\nlírinen ómo i·aire táríva  “by the song of the voice of the holy queen”\\n                     \\ntintilar lirinen ómaryo Airë-tário\\n\\n\\n\\n\\n',\n",
       " 'ómaryo lírinen airetário  “in [by means of] her voice’s song, of the holy-queen”\\n                  \\nlírinen ómo i·aire tárío  “by the song of the voice of the holy queen”\\n                     \\nlírinen ómo i·aire táríva  “by the song of the voice of the holy queen”\\n                     \\ntintilar lirinen ómaryo Airë-tário\\n\\n\\n',\n",
       " 'lírinen ómo i·aire tárío  “by the song of the voice of the holy queen”\\n                     ',\n",
       " 'lírinen ómo i·aire táríva  “by the song of the voice of the holy queen”\\n                     ',\n",
       " 'tintilar lirinen ómaryo Airë-tário\\n',\n",
       " 'ondolissë mornë  “on the dark rocks”\\n         ',\n",
       " 'Ondonórë Nómesseron Minasurië  “Enquiry into the Place-names of Gondor”\\n         ',\n",
       " 'ono alyë eterúna me illumë ilya raxellor  “but deliver us always from all dangers”\\n         ',\n",
       " 'onortanen rocco  “I rode a horse”\\n         ',\n",
       " 'ora nin  “it warns me”\\n         ',\n",
       " 'orë nin caritas  “I feel an urge/wish/desire to do it”\\n         ',\n",
       " 'orë nin caritas nó namin alasaila  “I would like / feel moved to do so but judge it unwise”\\n         ',\n",
       " 'órenya quéta nin  “my heart is saying to me”\\n         ',\n",
       " 'órenya quetë nin  “my heart tells me”\\n         ',\n",
       " 'Orome róma  “an Orome horn”\\n         ',\n",
       " 'ortírielyanna rucimmë, Aina Eruontari  “we fly to thy patronage, O holy Mother of God”\\n         ',\n",
       " 'paranye parmanen  “I am learning by means of a book”\\n            \\napárien parmanen  “I have learnt by means of a book”\\n               \\n\\n',\n",
       " 'apárien parmanen  “I have learnt by means of a book”\\n               ',\n",
       " 'parma mittarion  “*book of enterings”\\n         ',\n",
       " 'polin quetë  “I can speak, I am able to speak”\\n         ',\n",
       " 'Quentalë Ardanómion  “*History of the Places of Arda”\\n         ',\n",
       " 'quenten tulil márië nin  “I said: you come happily (for me)”\\n         ',\n",
       " 'quentë Quengoldo  “Thus spoke Pengoloð”\\n         ',\n",
       " 'queta Quenya  “speak Quenya”\\n            \\nquetë Quenya  “*speaks Quenya”\\n               \\n\\n',\n",
       " 'quetë Quenya  “*speaks Quenya”\\n               ',\n",
       " 'quetir en  “they still say”\\n         ',\n",
       " 'quīlas tūleste san inye tūle  “*suppose he came (he did not), then I came”\\n         ',\n",
       " 'quiquië menin coaryanna, arsë  “whenever I arrive at his house/come to/get to, he is out”\\n         ',\n",
       " 'quistanyes: lá istan  “I suppose so, I don’t know”\\n         ',\n",
       " 'quíta céla tuldes, quíta\\n',\n",
       " 'quí(ta) la tuldes, nánë márië (nin)  “[if he had not come], it was well to me (I was glad)”\\n         ',\n",
       " 'raita rembë  “*knit a net”\\n         ',\n",
       " 'rámainen elvië  “on wings like stars”\\n         ',\n",
       " 'rámar sisílala  “the wings shining”\\n         ',\n",
       " 'raumo nurrua  “the storm mumbling”\\n         ',\n",
       " 'ringa súmaryassë  “in her cold bosom”\\n         ',\n",
       " 'roccor i Erulingaron márë nár (ma naitë)?  “the horses of the Rohirrim are good (are they not, lit. is it true)”\\n         ',\n",
       " 'róma Oromëo  “a horn coming from Orome”\\n         ',\n",
       " 'róma Oroméva  “Orome’s horn”\\n         ',\n",
       " 'ruxal’ ambonnar  “upon crumbling hills”\\n         ',\n",
       " 'sana wendë nieninquëa  “*that maiden like a snowdrop”\\n         ',\n",
       " 'sanomë tarnë Olórin, Aracorno, Eomer, Imrahil, mi mísë, mi telepta yo morna, mi laiqua yo ninquë, mi luinë, ta Gimli mi lossëa  “There stood Gandalf, Aragorn, Eomer and Imrahil in grey, in silver and black, in green and white, and in blue, and also\\n            Gimli in white”\\n         ',\n",
       " 'savin Elessar ar i nánë aran Ondórëo  “I believe that E[lessar] really existed and that he was a King of Gondor”\\n         ',\n",
       " 'savin Elessarno quetië  “I believe the words of A[ragorn]”\\n         ',\n",
       " 'savin i Elessarno quetië naitë  “I believe that the words of A[ragorn] are true”\\n         ',\n",
       " 'se — hye — hye —  “he [A] struck him [B] and he [B] fled”\\n         ',\n",
       " 'sí ar lúmessë ya firuvammë: násië  “now and at the hour of our death: Amen”\\n         ',\n",
       " 'sí man i yulma nin enquantuva?  “who now shall refill the cup for me?”\\n            \\nsí man i yulma nin enquantuva?²  “now who the cup for me will refill?”\\n               \\n\\n',\n",
       " 'sí man i yulma nin enquantuva?²  “now who the cup for me will refill?”\\n               ',\n",
       " 'sí man i yulmar n(g)wen enquatuva  “*who now will refill the cups for us (dual)”\\n         ',\n",
       " 'Sinda Eldō  “a Grey Elf’s”\\n         ',\n",
       " 'Sindar Eldar  “Grey Elves”\\n         ',\n",
       " 'Sindar Eldaron  “Grey Elves’”\\n         ',\n",
       " 'Sindar i Eldar Malariando  “Grey are the Elves of Beleriand”\\n         ',\n",
       " 'sínen i·anda nyarnë metta ar taina andaurenya na quanta  “*with this the long tale ends and my extended long day is complete”\\n         ',\n",
       " 'sinomë maruvan ar Hildinyar tenn’ Ambar-metta  “In this place will I abide, and my heirs, unto the ending of the world”\\n         ',\n",
       " 'sin quentë Quendingoldo Elendilenna  “*thus Pengoloð said to Elendil”\\n         ',\n",
       " 'sí vanwa ná, Rómello vanwa, Valimar!  “now lost, lost to those from the east is Valimar!”\\n            \\nsí vanwa ná, Rómello vanwa, Valimar!²  “now lost is, [to one] from the East lost, Valimar!”\\n               \\n\\n',\n",
       " 'sí vanwa ná, Rómello vanwa, Valimar!²  “now lost is, [to one] from the East lost, Valimar!”\\n               ',\n",
       " 'sív’ emmë apsenet tien i úcarir emmen  “as we forgive those who trespass against us”\\n         ',\n",
       " 'sustanë Manwëo súlë ten i indo Sindicollo ar he lastanë ar carnes  “*the spirit of Manwe blew unto the heart of Thingol and he listened and did it”\\n         ',\n",
       " 'táli lantalasselingië  “*with feet like the music of falling leaves”\\n         ',\n",
       " 'ta mára  “so good”\\n         ',\n",
       " 'tambë engë i et...  “as it was [in] the [beginning]...”\\n         ',\n",
       " 'tas cennen nótimë eldali  “I saw a few elves there”\\n         ',\n",
       " 'Taurelilómëa-tumbalemorna Tumbaletaurëa Lómëanor\\n',\n",
       " 'tultauvas sa nin  “he will send it to me”\\n         ',\n",
       " 'tyulma ciryo  “the mast from some ship, of some ship”\\n         ',\n",
       " 'tyulma i ciryo  “the mast of the ship”\\n         ',\n",
       " 'uan carë  “I do not make”\\n            \\nuan cára  “I am not making”\\n               \\nuan carnë  “I did not make”\\n               \\nuan caruva  “I am not going to make”\\n               \\n\\n',\n",
       " 'uan cára  “I am not making”\\n               ',\n",
       " 'uan carnë  “I did not make”\\n               ',\n",
       " 'uan caruva  “I am not going to make”\\n               ',\n",
       " 'ú calo  “without the light”\\n            \\nú calmo  “without the light”\\n               \\n\\n',\n",
       " 'ú calmo  “without the light”\\n               ',\n",
       " 'uin carë  “I do not make”\\n         ',\n",
       " 'ulo úva  “rain (unwelcome) is coming/threatens”\\n         ',\n",
       " 'umbë nin i hríve nauva urra (si loa)  “I have a feeling that winter will be bad (this year)”\\n         ',\n",
       " '†umbestë matë  “he was going to eat”\\n         ',\n",
       " 'undumë hácala  “the abyss yawning”\\n         ',\n",
       " 'undumë rúma  “the abyss moving”\\n         ',\n",
       " 'úsië, an cé mo quernë cendelë númenna, ve senya  “on the contrary, for if one turned the face westward, as was usual”\\n         ',\n",
       " 'utúlie’n aurë  “The day has come!”\\n         ',\n",
       " 'vá caris i  “he is not to do it (now or ever); in any case (whatever may be said, desired, or may occur to the contrary) he is not to\\n            do this”\\n         ',\n",
       " 'vá caruvalwë (ohta)  “we will not (make war)”\\n         ',\n",
       " 'vá caruvas i\\n',\n",
       " 'Valar ar Maiar fantaner nassentar fanainen ve quenderinwe coar ar larmar  “Valar and Maiar cloaked their true-being in veils, like to Elvish bodies and raiment”\\n         ',\n",
       " 'Valar valuvar  “the will of the Valar will be done”\\n         ',\n",
       " 'vá matuvatyë mastanya  “you are not to eat my bread, you shan’t eat my bread”\\n         ',\n",
       " 'vá ménanyë  “I am not coming (I say)”\\n         ',\n",
       " 'vá meninyë ó le  “I won’t come with you”\\n         ',\n",
       " 'ván caruva  “I will not (do not intend) to make”\\n         ',\n",
       " 'vanda sina termaruva Elenna·nóreo alcar enyalien  “This oath shall stand in memory of the glory of the Land of the Star”\\n         ',\n",
       " 'ványë ar válmë  “I and those with me are against it”\\n         ',\n",
       " 'Varda Aratarya  “Varda the lofty, Varda in her sublimity”\\n         ',\n",
       " 'vá tulinye\\n',\n",
       " 'vá tuluvanyë  “I won’t come”\\n         ',\n",
       " 'vá tuluvásë  “he is not to come, he shan’t come”\\n         ',\n",
       " 've loicolícuma  “a corpse-candle”\\n         ',\n",
       " 've maiwi yaimië  “like gulls wailing”\\n         ',\n",
       " 'veryanen senna  “*I married/joined to him/her”\\n         ',\n",
       " 've tauri lillassië  “like leaves of forests”\\n         ',\n",
       " 'wilwarin wilwa  “vague as a butterfly”\\n         ',\n",
       " 'winga hlápula  “the foam blowing”\\n         ',\n",
       " 'yá hríve menë, ringa ná  “when winter comes/arrives/is with us, it is cold”\\n         ',\n",
       " 'yan i wilyar antar miquelis  “*to whom the air gives kisses”\\n         ',\n",
       " 'yassen tintilar i eleni  “wherein the stars tremble”\\n            \\nyassen tintilar i eleni²  “in which twinkle the stars”\\n               \\n\\n',\n",
       " 'yassen tintilar i eleni²  “in which twinkle the stars”\\n               ',\n",
       " 'yello camnelyes  “from whom you received him”\\n         ',\n",
       " 'yé mána (ma)  “what a blessing, what a good thing!”\\n         ',\n",
       " 'yéni únótimë ve rámar aldaron  “long years numberless as the wings of trees”\\n            \\nyéni únótimë ve aldaron rámar  “long-years not-countable as trees’ wings”\\n               \\n\\n',\n",
       " 'yéni únótimë ve aldaron rámar  “long-years not-countable as trees’ wings”\\n               ',\n",
       " 'yéni ve lintë yuldar avánier  “the years have passed like swift draughts”\\n            \\nyéni avánier ve lintë yuldar  “years have passed away like swift draughts”\\n               \\n\\n',\n",
       " 'yéni avánier ve lintë yuldar  “years have passed away like swift draughts”\\n               ',\n",
       " 'yenna leltanelyes  “to whom you sent him”\\n         ',\n",
       " 'yuluiti cuimar  “fishes, etc., *aquatic animals”\\n         ']"
      ]
     },
     "execution_count": 60,
     "metadata": {},
     "output_type": "execute_result"
    }
   ],
   "source": [
    "sentences"
   ]
  },
  {
   "cell_type": "code",
   "execution_count": 61,
   "id": "54f1c390",
   "metadata": {},
   "outputs": [],
   "source": [
    "sentences_english = []\n",
    "sentences_quenya = []\n",
    "for sentence in sentences:\n",
    "    compteur = 0\n",
    "    for i in range(len(sentence)):\n",
    "        if sentence[i]==\"“\":\n",
    "            beginning = i+1\n",
    "        if sentence[i]==\"”\":\n",
    "            ending = i\n",
    "            last_ending = ending\n",
    "            compteur+=1\n",
    "            sentences_english.append(sentence[beginning:ending])\n",
    "            if compteur==1:\n",
    "                sentences_quenya.append(sentence[:beginning])\n",
    "            else:\n",
    "                sentences_quenya.append(sentence[last_ending:beginning])"
   ]
  },
  {
   "cell_type": "code",
   "execution_count": 62,
   "id": "40619f0f",
   "metadata": {},
   "outputs": [
    {
     "data": {
      "text/plain": [
       "413"
      ]
     },
     "execution_count": 62,
     "metadata": {},
     "output_type": "execute_result"
    }
   ],
   "source": [
    "len(sentences_english)"
   ]
  },
  {
   "cell_type": "code",
   "execution_count": 63,
   "id": "f7a07e57",
   "metadata": {
    "scrolled": false
   },
   "outputs": [
    {
     "data": {
      "text/plain": [
       "413"
      ]
     },
     "execution_count": 63,
     "metadata": {},
     "output_type": "execute_result"
    }
   ],
   "source": [
    "len(sentences_quenya)"
   ]
  },
  {
   "cell_type": "markdown",
   "id": "453826ac",
   "metadata": {},
   "source": [
    "## Poems & prayers found on the website"
   ]
  },
  {
   "cell_type": "code",
   "execution_count": 64,
   "id": "034e305a",
   "metadata": {},
   "outputs": [],
   "source": [
    "list_url = [\"https://eldamo.org/content/words/word-2555725393.html\", \"https://eldamo.org/content/words/word-2245526111.html\",\n",
    "            \"https://eldamo.org/content/words/word-671674147.html\", \"https://eldamo.org/content/words/word-311699583.html\",\n",
    "            \"https://eldamo.org/content/words/word-2920398593.html\", \"https://eldamo.org/content/words/word-3295893985.html\",\n",
    "            \"https://eldamo.org/content/words/word-2124111669.html\", \"https://eldamo.org/content/words/word-4161205007.html\",\n",
    "            \"https://eldamo.org/content/words/word-436003197.html\", \"https://eldamo.org/content/words/word-2774144071.html\",\n",
    "            \"https://eldamo.org/content/words/word-3330342599.html\", \"https://eldamo.org/content/words/word-1216507117.html\",\n",
    "            \"https://eldamo.org/content/words/word-2721399773.html\", \"https://eldamo.org/content/words/word-1235857611.html\"]\n",
    "for url in list_url:\n",
    "    r = requests.get(url)\n",
    "    soup = BeautifulSoup(r.content, 'html.parser')\n",
    "    rows_english = soup.select('td')\n",
    "    for i in range(0,len(rows_english)):\n",
    "        if i%2==0:\n",
    "            sentences_quenya.append(rows_english[i].text)\n",
    "        else:\n",
    "            sentences_english.append(rows_english[i].text)"
   ]
  },
  {
   "cell_type": "code",
   "execution_count": 65,
   "id": "6a17be11",
   "metadata": {},
   "outputs": [
    {
     "data": {
      "text/plain": [
       "652"
      ]
     },
     "execution_count": 65,
     "metadata": {},
     "output_type": "execute_result"
    }
   ],
   "source": [
    "len(sentences_english)"
   ]
  },
  {
   "cell_type": "code",
   "execution_count": 66,
   "id": "8bdb5322",
   "metadata": {
    "scrolled": true
   },
   "outputs": [
    {
     "data": {
      "text/plain": [
       "652"
      ]
     },
     "execution_count": 66,
     "metadata": {},
     "output_type": "execute_result"
    }
   ],
   "source": [
    "len(sentences_quenya)"
   ]
  },
  {
   "cell_type": "markdown",
   "id": "067d85d4",
   "metadata": {},
   "source": [
    "## Dictionary pulled from Eldamo"
   ]
  },
  {
   "cell_type": "code",
   "execution_count": 67,
   "id": "aa9d46d8",
   "metadata": {},
   "outputs": [],
   "source": [
    "url = \"https://eldamo.org/content/vocabulary-indexes/vocabulary-words-nq.html?neo\"\n",
    "r = requests.get(url)\n",
    "soup = BeautifulSoup(r.content, 'html.parser')\n",
    "rows = soup.select('dt')"
   ]
  },
  {
   "cell_type": "code",
   "execution_count": 68,
   "id": "81348d0d",
   "metadata": {},
   "outputs": [],
   "source": [
    "words = []\n",
    "for row in rows:\n",
    "    words.append(row.text)\n",
    "    "
   ]
  },
  {
   "cell_type": "code",
   "execution_count": 69,
   "id": "b436769f",
   "metadata": {},
   "outputs": [],
   "source": [
    "words_english = []\n",
    "words_quenya = []\n",
    "for word in words:\n",
    "    compteur=0\n",
    "    for i in range(len(word)):\n",
    "        if ((word[i]==\" \") | (word[i]==\"-\"))&(compteur==0)&(i!=0):\n",
    "            ending_quenya = i\n",
    "            words_quenya.append(word[:ending_quenya])\n",
    "            compteur+=1\n",
    "        if word[i]==\"“\":\n",
    "            beginning = i+1 \n",
    "        if word[i]==\"”\":\n",
    "            ending = i\n",
    "            words_english.append(word[beginning:ending])\n",
    "            break\n",
    "            \n",
    "            "
   ]
  },
  {
   "cell_type": "code",
   "execution_count": 70,
   "id": "58d03f35",
   "metadata": {},
   "outputs": [
    {
     "data": {
      "text/plain": [
       "4894"
      ]
     },
     "execution_count": 70,
     "metadata": {},
     "output_type": "execute_result"
    }
   ],
   "source": [
    "len(words_english)"
   ]
  },
  {
   "cell_type": "code",
   "execution_count": 71,
   "id": "2d8f34bc",
   "metadata": {},
   "outputs": [
    {
     "data": {
      "text/plain": [
       "4894"
      ]
     },
     "execution_count": 71,
     "metadata": {},
     "output_type": "execute_result"
    }
   ],
   "source": [
    "len(words_quenya)"
   ]
  },
  {
   "cell_type": "code",
   "execution_count": 88,
   "id": "b85f3f7c",
   "metadata": {},
   "outputs": [],
   "source": [
    "sentences_english = np.concatenate([sentences_english, words_english])"
   ]
  },
  {
   "cell_type": "code",
   "execution_count": 87,
   "id": "2107acee",
   "metadata": {},
   "outputs": [],
   "source": [
    "sentences_quenya = np.concatenate([sentences_quenya, words_quenya])"
   ]
  },
  {
   "cell_type": "code",
   "execution_count": 93,
   "id": "2e9fbe67",
   "metadata": {
    "scrolled": false
   },
   "outputs": [],
   "source": [
    "list_english = []\n",
    "list_quenya = []\n",
    "for sentence in sentences_english:\n",
    "    list_english.append(list(sentence))\n",
    "for sentence in sentences_quenya:\n",
    "    list_quenya.append(list(sentence))"
   ]
  },
  {
   "cell_type": "code",
   "execution_count": 109,
   "id": "94b92de7",
   "metadata": {},
   "outputs": [],
   "source": [
    "m = 0\n",
    "for i in range(len(sentences_english)):\n",
    "    if len(list_english[i])>m: \n",
    "        m = len(list_english[i])\n",
    "    if len(list_quenya[i])>m:\n",
    "        m = len(list_quenya[i])"
   ]
  },
  {
   "cell_type": "code",
   "execution_count": 110,
   "id": "ef8aac07",
   "metadata": {},
   "outputs": [
    {
     "data": {
      "text/plain": [
       "146"
      ]
     },
     "execution_count": 110,
     "metadata": {},
     "output_type": "execute_result"
    }
   ],
   "source": [
    "m"
   ]
  },
  {
   "cell_type": "markdown",
   "id": "f1a88c2f",
   "metadata": {},
   "source": [
    "## Tokenization"
   ]
  },
  {
   "cell_type": "code",
   "execution_count": 138,
   "id": "3654d916",
   "metadata": {
    "scrolled": true
   },
   "outputs": [],
   "source": [
    "char2index = {}\n",
    "index2char = {}\n",
    "counter = 0\n",
    "for i in range(len(sentences_english)):\n",
    "    sent_english = sentences_english[i]\n",
    "    sent_quenya = sentences_quenya[i]\n",
    "    for w in sent_english:\n",
    "        if w not in char2index:\n",
    "            counter+=1\n",
    "            char2index[w] = counter\n",
    "            index2char[counter] = w\n",
    "    for w in sent_quenya:\n",
    "        if w not in char2index:\n",
    "            counter+=1\n",
    "            char2index[w] = counter\n",
    "            index2char[counter] = w"
   ]
  },
  {
   "cell_type": "code",
   "execution_count": 139,
   "id": "77450bdb",
   "metadata": {},
   "outputs": [
    {
     "data": {
      "text/plain": [
       "{1: 'H',\n",
       " 2: 'o',\n",
       " 3: 'l',\n",
       " 4: 'y',\n",
       " 5: ' ',\n",
       " 6: 'M',\n",
       " 7: 'a',\n",
       " 8: 'r',\n",
       " 9: ',',\n",
       " 10: 'p',\n",
       " 11: 'f',\n",
       " 12: 'u',\n",
       " 13: 's',\n",
       " 14: 'A',\n",
       " 15: 'i',\n",
       " 16: 'n',\n",
       " 17: 'c',\n",
       " 18: 't',\n",
       " 19: 'm',\n",
       " 20: 'ë',\n",
       " 21: '“',\n",
       " 22: 'T',\n",
       " 23: 'e',\n",
       " 24: 'G',\n",
       " 25: 'd',\n",
       " 26: 'h',\n",
       " 27: 'v',\n",
       " 28: 'N',\n",
       " 29: 'E',\n",
       " 30: 'ó',\n",
       " 31: '(',\n",
       " 32: ')',\n",
       " 33: '/',\n",
       " 34: 'k',\n",
       " 35: 'B',\n",
       " 36: 'S',\n",
       " 37: 'R',\n",
       " 38: 'w',\n",
       " 39: 'C',\n",
       " 40: 'í',\n",
       " 41: 'á',\n",
       " 42: 'ú',\n",
       " 43: 'g',\n",
       " 44: 'q',\n",
       " 45: '!',\n",
       " 46: '[',\n",
       " 47: 'b',\n",
       " 48: ']',\n",
       " 49: 'V',\n",
       " 50: 'W',\n",
       " 51: 'I',\n",
       " 52: '?',\n",
       " 53: '{',\n",
       " 54: '}',\n",
       " 55: '.',\n",
       " 56: 'ä',\n",
       " 57: 'F',\n",
       " 58: '’',\n",
       " 59: 'j',\n",
       " 60: 'Y',\n",
       " 61: 'O',\n",
       " 62: 'é',\n",
       " 63: 'L',\n",
       " 64: ';',\n",
       " 65: 'K',\n",
       " 66: 'Q',\n",
       " 67: '-',\n",
       " 68: '*',\n",
       " 69: 'J',\n",
       " 70: 'D',\n",
       " 71: 'x',\n",
       " 72: '²',\n",
       " 73: 'Á',\n",
       " 74: '‘',\n",
       " 75: 'ö',\n",
       " 76: 'P',\n",
       " 77: '2',\n",
       " 78: '3',\n",
       " 79: '†',\n",
       " 80: 'î',\n",
       " 81: 'ī',\n",
       " 82: '·',\n",
       " 83: 'ē',\n",
       " 84: ':',\n",
       " 85: '^',\n",
       " 86: '=',\n",
       " 87: 'Í',\n",
       " 88: 'ð',\n",
       " 89: 'ū',\n",
       " 90: '\\n',\n",
       " 91: '—',\n",
       " 92: 'ō',\n",
       " 93: '”',\n",
       " 94: '✧',\n",
       " 95: '\\xa0',\n",
       " 96: 'U',\n",
       " 97: '0',\n",
       " 98: '5',\n",
       " 99: 'ā',\n",
       " 100: 'z',\n",
       " 101: '³',\n",
       " 102: '¹',\n",
       " 103: 'ᴺ',\n",
       " 104: 'ᴹ',\n",
       " 105: '️',\n",
       " 106: '1',\n",
       " 107: 'χ',\n",
       " 108: '´',\n",
       " 109: 'Ú',\n",
       " 110: '⁴',\n",
       " 111: '4'}"
      ]
     },
     "execution_count": 139,
     "metadata": {},
     "output_type": "execute_result"
    }
   ],
   "source": [
    "index2char"
   ]
  },
  {
   "cell_type": "code",
   "execution_count": null,
   "id": "65fde373",
   "metadata": {},
   "outputs": [],
   "source": []
  },
  {
   "cell_type": "code",
   "execution_count": null,
   "id": "918a9c19",
   "metadata": {},
   "outputs": [],
   "source": []
  },
  {
   "cell_type": "raw",
   "id": "472ed673",
   "metadata": {},
   "source": []
  },
  {
   "cell_type": "code",
   "execution_count": null,
   "id": "cdee64e8",
   "metadata": {},
   "outputs": [],
   "source": []
  }
 ],
 "metadata": {
  "kernelspec": {
   "display_name": "Python 3 (ipykernel)",
   "language": "python",
   "name": "python3"
  },
  "language_info": {
   "codemirror_mode": {
    "name": "ipython",
    "version": 3
   },
   "file_extension": ".py",
   "mimetype": "text/x-python",
   "name": "python",
   "nbconvert_exporter": "python",
   "pygments_lexer": "ipython3",
   "version": "3.8.5"
  }
 },
 "nbformat": 4,
 "nbformat_minor": 5
}
