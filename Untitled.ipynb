{
 "cells": [
  {
   "cell_type": "markdown",
   "id": "9a8d9fa9",
   "metadata": {},
   "source": [
    "# Transformer model"
   ]
  },
  {
   "cell_type": "code",
   "execution_count": 2,
   "id": "2668a62a",
   "metadata": {},
   "outputs": [],
   "source": [
    "import numpy as np\n",
    "import torch\n",
    "from torch import nn, Tensor\n",
    "import torch.nn.functional as F"
   ]
  },
  {
   "cell_type": "code",
   "execution_count": 3,
   "id": "4761eb83",
   "metadata": {},
   "outputs": [],
   "source": [
    "class EncoderLayer(nn.Module):\n",
    "    def __init__(self, embed_dim, num_heads, d_hidden):\n",
    "        super(EncoderLayer, self).__init__()\n",
    "        self.embed_dim = embed_dim\n",
    "        self.num_heads = num_heads\n",
    "        self.d_hidden = d_hidden\n",
    "        \n",
    "        self.mha = nn.MultiHeadAttention(embed_dim, num_heads)\n",
    "        self.norm1 = nn.LayerNorm(embed_dim)\n",
    "        self.fullyconnected1 = nn.Linear(embed_dim, d_hidden)\n",
    "        self.relu = nn.ReLU()\n",
    "        self.fullyconnected2 = nn.Linear(d_hidden, embed_dim)\n",
    "        self.norm2 = nn.LayerNorm(embed_dim)\n",
    "    def forward(self, x):\n",
    "        att = mha(x, x, x)\n",
    "        att = norm1(x+att)\n",
    "        y = fullyconnected1(att)\n",
    "        y = relu(y)\n",
    "        y = fullyconnected2(y)\n",
    "        return norm2(att+y)\n",
    "                        "
   ]
  },
  {
   "cell_type": "code",
   "execution_count": 4,
   "id": "7559f37f",
   "metadata": {},
   "outputs": [],
   "source": [
    "class DecoderLayer(nn.Module):\n",
    "    def __init__(self, embed_dim, num_heads, d_hidden):\n",
    "        super(DecoderLayer, self).__init__()\n",
    "        self.embed_dim = embed_dim\n",
    "        self.num_heads = num_heads\n",
    "        self.d_hidden = d_hidden\n",
    "        \n",
    "        self.mha1 = nn.MultiHeadAttention(embed_dim, num_heads)\n",
    "        self.norm1 = nn.LayerNorm(embed_dim)\n",
    "        self.mha2 = nn.MultiHeadAttention(embed_dim, num_heads)\n",
    "        self.norm2 = nn.LayerNorm(embed_dim)\n",
    "        self.fullyconnected1 = nn.Linear(embed_dim, d_hidden)\n",
    "        self.relu = nn.ReLU()\n",
    "        self.fullyconnected2 = nn.Linear(d_hidden, embed_dim)\n",
    "        self.norm3 = nn.LayerNorm(embed_dim)\n",
    "    def forward(self, x, encoded):\n",
    "        att = mha1(x, x, x)\n",
    "        att = norm1(att + x)\n",
    "        att2 = mha2(encoded, encoded, x)\n",
    "        att2 = norm2(att + att2)\n",
    "        y = fullyconnected1(att2)\n",
    "        y = relu(att2)\n",
    "        y = fullyconnected2(y)\n",
    "        return norm3(y + att2)\n",
    "        "
   ]
  }
 ],
 "metadata": {
  "kernelspec": {
   "display_name": "Python 3 (ipykernel)",
   "language": "python",
   "name": "python3"
  },
  "language_info": {
   "codemirror_mode": {
    "name": "ipython",
    "version": 3
   },
   "file_extension": ".py",
   "mimetype": "text/x-python",
   "name": "python",
   "nbconvert_exporter": "python",
   "pygments_lexer": "ipython3",
   "version": "3.8.5"
  }
 },
 "nbformat": 4,
 "nbformat_minor": 5
}
